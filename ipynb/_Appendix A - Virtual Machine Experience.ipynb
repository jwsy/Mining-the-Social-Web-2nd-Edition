{
 "metadata": {
  "name": "_Appendix A - Virtual Machine Experience"
 },
 "nbformat": 3,
 "nbformat_minor": 0,
 "worksheets": [
  {
   "cells": [
    {
     "cell_type": "markdown",
     "metadata": {},
     "source": [
      "#Mining the Social Web, 2nd Edition\n",
      "\n",
      "##Appendix A: Virtual Machine Experience\n",
      "\n",
      "This IPython Notebook provides a brief overview of how to install and configure the book's virtual machine for maximal enjoyment in following along with the numbered examples from [_Mining the Social Web (2nd Edition)_](http://bit.ly/135dHfs). You are very strongly encouraged to install the virtual machine as a development environment instead of using your existing Python installation because there are some non-trivial configuration management issues that are involved in installing IPython Notebook and its dependencies along with various 3rd party Python packages that are used throughout the book, and the need to support users across multiple platforms only exacerbates the complexity. In short, the virtual machine experience is intended to provide all readers and consumers of this book's source code with the best possible experience. Even if you are an expert in working with Python developer tools, you will still likely save some time by taking advantage of the book's virtual machine experience on your first pass through the book, so give it a try.\n",
      "\n",
      "The remainder of this notebook provides a brief overview of how to install the virtual machine along with a few important notes to keep in mind each step of the way.\n",
      "\n",
      "In the somewhat unlikely event that you've somehow stumbled across this notebook outside of its context on GitHub, [you can find the full source code repository here](http://bit.ly/16kGNyb)."
     ]
    },
    {
     "cell_type": "markdown",
     "metadata": {},
     "source": [
      "## Screencast Overview\n",
      "\n",
      "After a recent update to improve the virtual machine's configuration management with Chef, the previous screen cast is no longer up to date. Based on a lot of great feedback, a much improved screencast will be available soon (est Sun, July 28)."
     ]
    },
    {
     "cell_type": "markdown",
     "metadata": {},
     "source": [
      "## Quick Start Instructions\n",
      "\n",
      "In order to start the virtual machine, there are just a few easy steps to follow:\n",
      "\n",
      "* Download and install the latest copy of [VirtualBox](https://www.virtualbox.org/) for your operating system\n",
      " * Although additional working knowledge of VirtualBox could be helpful, just accomplishing an installation is sufficient\n",
      " * However, see an important note below for Windows and Linux users that may require you to adjust your computer's BIOS settings\n",
      " * The version of VirtualBox used as of this writing is 4.2.x. Type \"VirtualBox\" to get version information if you already have it installed.\n",
      "* Download and install [Vagrant](http://www.vagrantup.com/) for your operating system\n",
      " * It _is_ highly recommended that you take a moment to read Vagrant's excellent \"Getting Started\" guide as a matter of initial familiarization\n",
      " * If you already have Vagrant installed, be sure that it's running version 1.1.x by typing \"vagrant -v\" in a terminal\n",
      " * Once Vagrant is installed, you'll need to type <code>vagrant plugin install vagrant-berkshelf</code> to install the [vagrant-berkshelf](https://github.com/riotgames/vagrant-berkshelf) plugin.\n",
      "\n",
      "* Checkout this book's source code from [its GitHub repository](http://bit.ly/16kGNyb) to your machine using [Git](http://git-scm.com/downloads) or with the download links at the top of the main GitHub page.\n",
      " * Windows users should install [Git for Windows](http://msysgit.github.io/) as it comes bundled with an SSH client that might come in handy later if you'd like to easily login to your virtual machine guest with Vagrant. (See screenshots below)\n",
      " * Although you could opt to download the latest version of the source code from GitHub as a [zip file](https://github.com/ptwobrussell/Mining-the-Social-Web-2nd-Edition/archive/master.zip), basic familiarization with Git is likely to serve you well in your programming endeavors and is encouraged\n",
      "* In a terminal, navigate to the 'vagrant' directory in the source code checkout\n",
      " * On a Windows system, look for a [Command Prompt](http://www.bleepingcomputer.com/tutorials/windows-command-prompt-introduction/) program that's likely under your \"Accessories\" menu somewhere.\n",
      "* Run the following command from within the 'vagrant' directory: <code>vagrant up</code>\n",
      " * It is recommended that you disable any settings which may allow your system to go into a sleep or hybernation mode while your virtual machine initially bootstraps\n",
      " * Your virtual machine image should begin to download and configure.\n",
      "\n",
      "## What Happens Next\n",
      "\n",
      "* What should happen at this point is that Vagrant will use the Vagrantfile and referenced configuration information contained therein to download a Virtualbox base image and configure it The first time you <code>vagrant up</code>, it may take ~20 minutes to download the ~1GB base image and download/install dozens of updates and 3rd party packages depending on your Internet connection speed and hardware.\n",
      "* When all of the dependencies are installed, Vagrant will start the [IPython Notebook](http://ipython.org/notebook.html) server automatically on the virtual machine and map. You'll be able to access IPython Notebook on your local host machine because the port that it runs on is mapped through for you automatically.\n",
      "* Point your web browser to http://localhost:8888 and read the instructions in the \"Chapter 0 - Preface\" notebook to get started with the source code!\n",
      " * Although not absolutely necessary, it would be a worthwhile endeavor to learn how to <code>vagrant ssh</code> into the virtual machine and get more comfortable working in a terminal environment and with developer tools in general\n",
      "* You can use the <code>vagrant suspend</code> command to save the current running state of your virtual machine and stop it. To resume working again, simply issue a <code>vagrant resume</code> command. You can also use <code>vagrant halt</code> as a way to stop the virtual machine. Additional documentation on operating vagrant can be found [in Vagrant's documentation online](http://docs.vagrantup.com/v2/getting-started/teardown.html).\n",
      "\n",
      "## Troubleshooting\n",
      "\n",
      "* Linux/Windows users running on non-Apple hardware may experience problems running Vagrant that are related to BIOS settings\n",
      " * If you are running on non-Apple hardware such as a Dell laptop or any other system running Windows or Linux, you may very well need to review and adjust your machine's [BIOS](https://en.wikipedia.org/wiki/BIOS) settings in order to enable virtualization, which is likely disabled by default. If you're not familiar with \"BIOS settings\", think of it as a special control panel that allows you to adjust some very specialized hardware specific settings. When you reboot your system, you will usually see a message that explains how to enter into your system's BIOS settings and it usually involves pressing a particular key within a few seconds from the time it displays.\n",
      " * In the BIOS settings for a Dell system, look for \"Virtualization\" options that may be embedded into options or menus related to \"POST Behavior.\" The settings should provide binary options for \"Off\" and \"Enabled\" with a description to the effect of \"This field specifies whether a Virtual Machine Manager (VMM) can utilize the additional hardware capabilities provided by Intel(R) Virtualization Technology. It is likely the case that the VMM technology is disabled by default, so you would want to adjust this setting to enable the VMM technology.\n",
      " * If in the course of trying to use Vagrant to startup your Virtualbox you encounter an error to the effect of \"No VT-x or AMD-V CPU extension found. Reason VERR_VMX_MSR_LOCKED_OR_DISABLED\", it is almost definitely the case that your BIOS settings will need to be adjusted.\n",
      "\n",
      "* Windows users should check to see that Git, Vagrant, SSH and other software packages are properly installed by typing \"git\", \"vagrant\", \"ssh\", or the appropriate command in a command prompt. If it is not installed, you'll get back a error message indicating that no such command could be found. If it is installed, you'll get back a message from the program indicating how to use it.\n",
      "\n",
      "* If you experience troubles of any kind that you can't handle yourself, reach out on Twitter, Facebook, or better yet, file an issue at GitHub to request help\n",
      "\n",
      "* Advanced users (who despite all attempts at convincing to use the virtual machine still prefer to run with their own installation) may benefit from reviewing the  Chef-based configuration management in the [deploy](https://github.com/ptwobrussell/Mining-the-Social-Web-2nd-Edition/blob/master/deploy) folder that encapsulates the steps required to get a good environment working with a minimal Linux base image. It's the exact set of steps that are used by Vagrant during configuration to bootstrap the virtual machine.\n",
      "\n",
      "## Screenshots\n",
      "\n",
      "<img src=\"https://f.cloud.github.com/assets/98668/595897/9270ac32-cb3c-11e2-81a1-3eb7d88f7fce.png\" width=\"600\"><br />\n",
      "_Windows users should opt to install the developer tools while installing Git for Windows in order to get SSH, which allows Vagrant's \"vagrant ssh\" command to seamlessly work._<br />\n",
      "\n",
      "<img src=\"https://f.cloud.github.com/assets/98668/595898/96935a94-cb3c-11e2-8e29-5b58fe027ea9.png\" width=\"600\"><br />\n",
      "_Logging into your virtual machine (should you need or desire to do so for advanced troubleshooting) is as easy as \"vagrant ssh\" so long as you have an SSH client in your path_<br />\n",
      "\n",
      "<img src=\"https://f.cloud.github.com/assets/98668/595899/9915b078-cb3c-11e2-9e1a-78a785678af3.png\" width=\"600\"><br />\n",
      "_Once you have run \"vagrant up\" and your virtual machine is up and running, you essentially operate as though the virtual machine is just a piece of software running like any other. For example, you'll operate in your web browser just like normal to access IPython Notebook, which is where you'll spend all of your time. The nice thing about the virtual machine experience is that it allows you to use your host operating system as usual, although it encapsulates all of the messy configuration management details to a well-known and highly controlled environment._<br />\n",
      "\n",
      "## Git and GitHub\n",
      "\n",
      "In the event that you've never used a version control system such as Git to obtain or manage source code, it's worth mentioning that the investment to learn Git fundamentals is one that will yield significant benefits as you continue along your social web mining journey. GitHub's http://try.github.io tutorial is particularly worth the 15 or so minutes that it takes to complete and will give you the fundamentals. Once you are on your way, the website http://git-scm.com/ is particularly worth bookmarking and referencing as you try to answer particular questions, and you'll also find that Stack Overflow also contains a plethora of answers to common Git questions and best practice guidelines. \n",
      "\n",
      "You are certainly able to download a zipfile archive of this book's source code (or any other GitHub project's source code) from its main project page to get started, but doing so would be a bit ironic since this book is all about the social web, and you'd be avoiding the premier social coding platform that hosts its project code. It would lmost be a bit like going to the dance but never actually dancing (or even communicating) with anyone. GitHub is inherently social, and there are benefits to participating that you can't gain any other way besides plugging in, being part of the conversation, and applying some Git fundamentals from time to time. Forking code, opening pull requests, and otherwise contributing within the boundaries of the GitHub platform tooling is much easier than you might initially think because GitHub delivers such a tremendous user experience. Take a few extra minutes to checkout the sourcecode from GitHub; you'll be glad that you did.  \n",
      "\n",
      "## Thank You!\n",
      "\n",
      "Please file tickets here on GitHub if you experience any troubles whatsoever, and thanks again for your interest in _Mining the Social Web (2nd Edition)_. The goal in providing you with a completely turn-key machine experience is so that you can get the most out of the book and its source code -- not to divert your attention into unnecessary system configuration issues. Feedback on ways to improve this experience is always welcome.\n",
      "\n",
      "## Copyright and Licensing\n",
      "\n",
      "You are free to use or adapt this notebook for any purpose you'd like. However, please respect the [Simplified BSD License](https://github.com/ptwobrussell/Mining-the-Social-Web-2nd-Edition/blob/master/LICENSE.txt) that governs its use."
     ]
    }
   ],
   "metadata": {}
  }
 ]
}